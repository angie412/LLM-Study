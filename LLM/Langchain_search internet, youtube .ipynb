{
 "cells": [
  {
   "cell_type": "code",
   "execution_count": 1,
   "id": "0a49f62e",
   "metadata": {},
   "outputs": [
    {
     "name": "stdout",
     "output_type": "stream",
     "text": [
      "Active code page: 65001\n"
     ]
    }
   ],
   "source": [
    "!pip install --upgrade --quiet  duckduckgo-search openai langchain_community"
   ]
  },
  {
   "cell_type": "code",
   "execution_count": 2,
   "id": "769de8df",
   "metadata": {},
   "outputs": [
    {
     "data": {
      "text/plain": [
       "'Barack Obama—with his wife, Michelle—being sworn in as the 44th president of the United States, January 20, 2009. Key events in the life of Barack Obama. Barack Obama (born August 4, 1961, Honolulu, Hawaii, U.S.) is the 44th president of the United States (2009-17) and the first African American to hold the office. Barack Hussein Obama II (/ b ə ˈ r ɑː k h uː ˈ s eɪ n oʊ ˈ b ɑː m ə / (); born August 4, 1961) [1] is an American politician and attorney. He was the 44th president of the United States from 2009 to 2017. He was the first African-American president in U.S. history. A member of the Democratic Party, he also served as member of the Illinois Senate from 1997 to 2004 and a United ... Since the office was established in 1789, 45 men have served in 46 presidencies. The first president, George Washington, won a unanimous vote of the Electoral College. [ 4] Grover Cleveland served two non-consecutive terms and is therefore counted as the 22nd and 24th president of the United States, giving rise to the discrepancy between the ... As the head of the government of the United States, the president is arguably the most powerful government official in the world. The president is elected to a four-year term via an electoral college system. Since the Twenty-second Amendment was adopted in 1951, the American presidency has been limited to a maximum of two terms.. Click on a president below to learn more about each presidency ... Obama was born on August 4, 1961, [1] at Kapi ʻ olani Maternity & Gynecological Hospital (now Kapi ʻ olani Medical Center for Women and Children) in Honolulu, Hawaii, [2] [3] [4] and would become the first President to have been born in Hawaii. [5] His mother, Stanley Ann Dunham, was born in Wichita, Kansas, and was of mostly English ancestry. [6] His father, Barack Obama, Sr., was a Luo ...'"
      ]
     },
     "execution_count": 2,
     "metadata": {},
     "output_type": "execute_result"
    }
   ],
   "source": [
    "from langchain_community.tools import DuckDuckGoSearchRun\n",
    "search = DuckDuckGoSearchRun()\n",
    "search.run(\"Obama's first name?\")"
   ]
  },
  {
   "cell_type": "code",
   "execution_count": 3,
   "id": "360395a1",
   "metadata": {},
   "outputs": [
    {
     "name": "stdout",
     "output_type": "stream",
     "text": [
      "Active code page: 65001\n"
     ]
    }
   ],
   "source": [
    "!pip install --upgrade --quiet youtube_search"
   ]
  },
  {
   "cell_type": "code",
   "execution_count": 4,
   "id": "57725bdd",
   "metadata": {},
   "outputs": [
    {
     "data": {
      "text/plain": [
       "\"['https://www.youtube.com/watch?v=7Wdpn6iDvDg&pp=ygUHQml0Y29pbg%3D%3D', 'https://www.youtube.com/watch?v=LaudOwVuvYs&pp=ygUHQml0Y29pbg%3D%3D']\""
      ]
     },
     "execution_count": 4,
     "metadata": {},
     "output_type": "execute_result"
    }
   ],
   "source": [
    "from langchain_community.tools import YouTubeSearchTool\n",
    "tool = YouTubeSearchTool()\n",
    "tool.run(\"Bitcoin\")"
   ]
  },
  {
   "cell_type": "code",
   "execution_count": 5,
   "id": "f2f3a2bc",
   "metadata": {},
   "outputs": [
    {
     "name": "stdout",
     "output_type": "stream",
     "text": [
      "Active code page: 65001\n",
      "Requirement already satisfied: langchain-openai in c:\\users\\user\\anaconda3\\lib\\site-packages (0.1.21)\n",
      "Requirement already satisfied: langchain-core<0.3.0,>=0.2.29 in c:\\users\\user\\anaconda3\\lib\\site-packages (from langchain-openai) (0.2.30)\n",
      "Requirement already satisfied: tiktoken<1,>=0.7 in c:\\users\\user\\anaconda3\\lib\\site-packages (from langchain-openai) (0.7.0)\n",
      "Requirement already satisfied: openai<2.0.0,>=1.40.0 in c:\\users\\user\\anaconda3\\lib\\site-packages (from langchain-openai) (1.40.6)\n",
      "Requirement already satisfied: typing-extensions>=4.7 in c:\\users\\user\\anaconda3\\lib\\site-packages (from langchain-core<0.3.0,>=0.2.29->langchain-openai) (4.12.2)\n",
      "Requirement already satisfied: packaging<25,>=23.2 in c:\\users\\user\\anaconda3\\lib\\site-packages (from langchain-core<0.3.0,>=0.2.29->langchain-openai) (24.1)\n",
      "Requirement already satisfied: PyYAML>=5.3 in c:\\users\\user\\anaconda3\\lib\\site-packages (from langchain-core<0.3.0,>=0.2.29->langchain-openai) (5.4.1)\n",
      "Requirement already satisfied: pydantic<3,>=1 in c:\\users\\user\\anaconda3\\lib\\site-packages (from langchain-core<0.3.0,>=0.2.29->langchain-openai) (2.8.2)\n",
      "Requirement already satisfied: jsonpatch<2.0,>=1.33 in c:\\users\\user\\anaconda3\\lib\\site-packages (from langchain-core<0.3.0,>=0.2.29->langchain-openai) (1.33)\n",
      "Requirement already satisfied: tenacity!=8.4.0,<9.0.0,>=8.1.0 in c:\\users\\user\\anaconda3\\lib\\site-packages (from langchain-core<0.3.0,>=0.2.29->langchain-openai) (8.1.0)\n",
      "Requirement already satisfied: langsmith<0.2.0,>=0.1.75 in c:\\users\\user\\anaconda3\\lib\\site-packages (from langchain-core<0.3.0,>=0.2.29->langchain-openai) (0.1.99)\n",
      "Requirement already satisfied: jsonpointer>=1.9 in c:\\users\\user\\anaconda3\\lib\\site-packages (from jsonpatch<2.0,>=1.33->langchain-core<0.3.0,>=0.2.29->langchain-openai) (3.0.0)\n",
      "Requirement already satisfied: orjson<4.0.0,>=3.9.14 in c:\\users\\user\\anaconda3\\lib\\site-packages (from langsmith<0.2.0,>=0.1.75->langchain-core<0.3.0,>=0.2.29->langchain-openai) (3.10.7)\n",
      "Requirement already satisfied: requests<3,>=2 in c:\\users\\user\\anaconda3\\lib\\site-packages (from langsmith<0.2.0,>=0.1.75->langchain-core<0.3.0,>=0.2.29->langchain-openai) (2.32.3)\n",
      "Requirement already satisfied: tqdm>4 in c:\\users\\user\\anaconda3\\lib\\site-packages (from openai<2.0.0,>=1.40.0->langchain-openai) (4.59.0)\n",
      "Requirement already satisfied: httpx<1,>=0.23.0 in c:\\users\\user\\anaconda3\\lib\\site-packages (from openai<2.0.0,>=1.40.0->langchain-openai) (0.27.0)\n",
      "Requirement already satisfied: jiter<1,>=0.4.0 in c:\\users\\user\\anaconda3\\lib\\site-packages (from openai<2.0.0,>=1.40.0->langchain-openai) (0.5.0)\n",
      "Requirement already satisfied: distro<2,>=1.7.0 in c:\\users\\user\\anaconda3\\lib\\site-packages (from openai<2.0.0,>=1.40.0->langchain-openai) (1.9.0)\n",
      "Requirement already satisfied: sniffio in c:\\users\\user\\anaconda3\\lib\\site-packages (from openai<2.0.0,>=1.40.0->langchain-openai) (1.2.0)\n",
      "Requirement already satisfied: anyio<5,>=3.5.0 in c:\\users\\user\\anaconda3\\lib\\site-packages (from openai<2.0.0,>=1.40.0->langchain-openai) (4.4.0)\n",
      "Requirement already satisfied: exceptiongroup>=1.0.2 in c:\\users\\user\\anaconda3\\lib\\site-packages (from anyio<5,>=3.5.0->openai<2.0.0,>=1.40.0->langchain-openai) (1.2.2)\n",
      "Requirement already satisfied: idna>=2.8 in c:\\users\\user\\anaconda3\\lib\\site-packages (from anyio<5,>=3.5.0->openai<2.0.0,>=1.40.0->langchain-openai) (2.10)\n",
      "Requirement already satisfied: httpcore==1.* in c:\\users\\user\\anaconda3\\lib\\site-packages (from httpx<1,>=0.23.0->openai<2.0.0,>=1.40.0->langchain-openai) (1.0.5)\n",
      "Requirement already satisfied: certifi in c:\\users\\user\\anaconda3\\lib\\site-packages (from httpx<1,>=0.23.0->openai<2.0.0,>=1.40.0->langchain-openai) (2020.12.5)\n",
      "Requirement already satisfied: h11<0.15,>=0.13 in c:\\users\\user\\anaconda3\\lib\\site-packages (from httpcore==1.*->httpx<1,>=0.23.0->openai<2.0.0,>=1.40.0->langchain-openai) (0.14.0)\n",
      "Requirement already satisfied: pydantic-core==2.20.1 in c:\\users\\user\\anaconda3\\lib\\site-packages (from pydantic<3,>=1->langchain-core<0.3.0,>=0.2.29->langchain-openai) (2.20.1)\n",
      "Requirement already satisfied: annotated-types>=0.4.0 in c:\\users\\user\\anaconda3\\lib\\site-packages (from pydantic<3,>=1->langchain-core<0.3.0,>=0.2.29->langchain-openai) (0.7.0)\n",
      "Requirement already satisfied: urllib3<3,>=1.21.1 in c:\\users\\user\\anaconda3\\lib\\site-packages (from requests<3,>=2->langsmith<0.2.0,>=0.1.75->langchain-core<0.3.0,>=0.2.29->langchain-openai) (1.26.4)\n",
      "Requirement already satisfied: charset-normalizer<4,>=2 in c:\\users\\user\\anaconda3\\lib\\site-packages (from requests<3,>=2->langsmith<0.2.0,>=0.1.75->langchain-core<0.3.0,>=0.2.29->langchain-openai) (3.3.2)\n",
      "Requirement already satisfied: regex>=2022.1.18 in c:\\users\\user\\anaconda3\\lib\\site-packages (from tiktoken<1,>=0.7->langchain-openai) (2024.7.24)\n",
      "Active code page: 65001\n"
     ]
    }
   ],
   "source": [
    "!pip install -U langchain-openai\n",
    "!pip install --upgrade --quiet youtube-transcript-api pytube faiss-cpu tiktoken langchain langchain_openai"
   ]
  },
  {
   "cell_type": "code",
   "execution_count": 6,
   "id": "e2600393",
   "metadata": {},
   "outputs": [],
   "source": [
    "# From: https://towardsdatascience.com/getting-started-with-langchain-a-beginners-guide-to-building-llm-powered-applications-95fc8898732c\n",
    "\n",
    "from langchain.document_loaders import YoutubeLoader # youtube loader\n",
    "from langchain.embeddings import OpenAIEmbeddings    # embedding\n",
    "from langchain.vectorstores import FAISS             # vector store\n",
    "from langchain.chains import RetrievalQA             # Q&A rules\n",
    "from langchain_openai import ChatOpenAI              # using openai tool\n",
    "from pprint import pprint     # output print tool\n"
   ]
  },
  {
   "cell_type": "code",
   "execution_count": 7,
   "id": "b9b3408c",
   "metadata": {},
   "outputs": [],
   "source": [
    "import openai\n",
    "import os\n",
    "\n",
    "with open('token.txt', 'r') as file:\n",
    "    os.environ['OPENAI_API_KEY'] = file.read().strip()\n",
    "    \n",
    "openai.api_key = os.getenv('OPENAI_API_KEY')"
   ]
  },
  {
   "cell_type": "code",
   "execution_count": 15,
   "id": "0abeff1d",
   "metadata": {},
   "outputs": [
    {
     "name": "stdout",
     "output_type": "stream",
     "text": [
      "('Cold showers have several potential benefits, both physical and mental. Here '\n",
      " 'are some of the commonly cited advantages:\\n'\n",
      " '\\n'\n",
      " '1. **Improved Circulation**: Cold water can stimulate blood flow, which '\n",
      " 'helps improve circulation. This can be particularly beneficial for '\n",
      " 'cardiovascular health.\\n'\n",
      " '\\n'\n",
      " '2. **Enhanced Recovery**: Athletes often use cold showers or ice baths to '\n",
      " 'reduce muscle soreness and speed up recovery after intense workouts. The '\n",
      " 'cold can help reduce inflammation and numb pain.\\n'\n",
      " '\\n'\n",
      " '3. **Increased Alertness**: Cold showers can invigorate the body, leading to '\n",
      " 'increased alertness and energy levels. The shock of the cold water can '\n",
      " 'stimulate the release of adrenaline and other hormones that help wake you '\n",
      " 'up.\\n'\n",
      " '\\n'\n",
      " '4. **Boosted Immune System**: Some studies suggest that cold showers may '\n",
      " 'boost the immune system by increasing the production of white blood cells, '\n",
      " 'which help fight off infections.\\n'\n",
      " '\\n'\n",
      " '5. **Improved Mood**: Exposure to cold water can stimulate the production of '\n",
      " \"endorphins, which are the body's natural mood elevators. This can help \"\n",
      " 'reduce symptoms of depression and anxiety.\\n'\n",
      " '\\n'\n",
      " '6. **Better Skin and Hair**: Cold water can help tighten the pores and '\n",
      " 'cuticles, leading to improved skin tone and shinier hair. It may also help '\n",
      " 'reduce the occurrence of acne by preventing the pores from becoming '\n",
      " 'clogged.\\n'\n",
      " '\\n'\n",
      " '7. **Enhanced Resilience**: Regular exposure to cold showers can increase '\n",
      " 'your tolerance to stress by training your body to handle the shock of cold '\n",
      " 'temperatures more effectively.\\n'\n",
      " '\\n'\n",
      " '8. **Improved Metabolism**: Cold exposure can stimulate brown fat, a type of '\n",
      " 'fat tissue that burns calories to generate heat. This can potentially help '\n",
      " 'with weight management.\\n'\n",
      " '\\n'\n",
      " '9. **Reduction in Muscle Tension**: Cold water can help relax muscles and '\n",
      " 'reduce tension, which may be beneficial for people experiencing muscle '\n",
      " 'stiffness or spasms.\\n'\n",
      " '\\n'\n",
      " '10. **Better Sleep**: Some people find that taking a cold shower before bed '\n",
      " 'can help improve the quality of their sleep by lowering their body '\n",
      " 'temperature and promoting relaxation.\\n'\n",
      " '\\n'\n",
      " \"It's important to note that while cold showers can have these benefits, they \"\n",
      " 'may not be suitable for everyone, particularly those with certain medical '\n",
      " 'conditions like heart disease. Always consult with a healthcare professional '\n",
      " 'before making significant changes to your health routine.')\n"
     ]
    }
   ],
   "source": [
    "embeddings = OpenAIEmbeddings()\n",
    "\n",
    "#vector store\n",
    "db = FAISS.from_documents(documents, embeddings)\n",
    "retriever = db.as_retriever()\n",
    "\n",
    "llm = ChatOpenAI(model_name=\"gpt-4o\")\n",
    "\n",
    "qa = RetrievalQA.from_chain_type(\n",
    "    llm = llm,\n",
    "    retriever = retriever,\n",
    "    return_source_documents = True\n",
    ")\n",
    "\n",
    "query = \"What are the benefits of cold showers\"\n",
    "result = qa({\"query\" : query})\n",
    "\n",
    "pprint(result['result'])"
   ]
  },
  {
   "cell_type": "code",
   "execution_count": 17,
   "id": "057a17a9",
   "metadata": {
    "scrolled": true
   },
   "outputs": [
    {
     "name": "stdout",
     "output_type": "stream",
     "text": [
      "('이 비디오는 OpenAI가 최근에 발표한 GPT-4 Turbo 업데이트에 대해 다룹니다. 주요 내용은 다음과 같습니다:\\n'\n",
      " '\\n'\n",
      " '1. **GPT-4 Turbo 업데이트**: 새로운 API 엔드포인트가 추가되어 이제 시각적 요소를 소프트웨어에서 사용할 수 있게 '\n",
      " '되었습니다. 예를 들어, 이미지를 입력하면 그것이 무엇인지 인식할 수 있습니다.\\n'\n",
      " '\\n'\n",
      " \"2. **실제 응용 사례**: 이 업데이트를 활용한 몇 가지 예시를 소개합니다. 예를 들어, 'Healthify Snap'이라는 앱은 \"\n",
      " \"음식의 사진을 찍으면 칼로리, 지방, 단백질 등의 정보를 제공합니다. 또 다른 예시는 'TLD Draw'라는 앱으로, 간단한 웹사이트 \"\n",
      " 'UI를 그리면 이를 코드로 변환해줍니다.\\n'\n",
      " '\\n'\n",
      " '3. **비용 비교**: OpenAI의 GPT-4 Turbo와 경쟁사인 Anthropic의 클라우드 모델을 비용 측면에서 비교합니다. '\n",
      " 'GPT-4 Turbo는 1백만 토큰당 약 $10이고, Anthropic의 모델은 $15입니다. 시각적 요소를 처리하는 비용은 다소 비쌀 '\n",
      " '수 있으며, 예를 들어 인스타그램 사진을 처리할 때 사용자당 약 69센트의 비용이 든다고 설명합니다.\\n'\n",
      " '\\n'\n",
      " '4. **미래 전망**: 이 기술이 소프트웨어 개발 및 인공지능 응용 분야에서 큰 진전을 이룰 수 있는 잠재력을 가지고 있음을 '\n",
      " '강조합니다. 예를 들어, 시각적 요소와 텍스트 생성을 결합한 더 발전된 응용 프로그램을 만들 수 있는 가능성을 언급합니다.\\n'\n",
      " '\\n'\n",
      " '전반적으로 이 비디오는 최신 기술 업데이트와 이를 실제로 활용할 수 있는 방법들, 그리고 그에 따른 비용과 잠재적 이점에 대해 '\n",
      " '설명합니다.')\n"
     ]
    }
   ],
   "source": [
    "#youtube\n",
    "\n",
    "#load youtube link , subtitles\n",
    "loader = YoutubeLoader.from_youtube_url(\"https://www.youtube.com/watch?v=5TaSVfJmuiA\", language = 'ko')\n",
    "documents = loader.load()\n",
    "\n",
    "#vector store\n",
    "db = FAISS.from_documents(documents, embeddings)\n",
    "retriever = db.as_retriever()\n",
    "\n",
    "llm = ChatOpenAI(model_name=\"gpt-4o\")\n",
    "\n",
    "qa = RetrievalQA.from_chain_type(\n",
    "    llm = llm,\n",
    "    chain_type = \"stuff\",\n",
    "    retriever = retriever,\n",
    "    return_source_documents = True\n",
    ")\n",
    "\n",
    "query = \"대략 무슨 내용이야?\" #What's it all about?\n",
    "result = qa({\"query\" : query})\n",
    "\n",
    "pprint(result['result'])"
   ]
  },
  {
   "cell_type": "markdown",
   "id": "39d6cd0a",
   "metadata": {},
   "source": [
    "##### Making Function"
   ]
  },
  {
   "cell_type": "code",
   "execution_count": 18,
   "id": "37bb07f5",
   "metadata": {},
   "outputs": [],
   "source": [
    "def ask_youtube(url, q, language='en'):\n",
    "    loader = YoutubeLoader.from_youtube_url(url, language = language)\n",
    "    documents = loader.load()\n",
    "    \n",
    "    db = FAISS.from_documents(documents, embeddings)\n",
    "    retriever = db.as_retriever()\n",
    "\n",
    "    llm = ChatOpenAI(model_name=\"gpt-4-turbo-preview\")\n",
    "\n",
    "    qa = RetrievalQA.from_chain_type(\n",
    "        llm = llm,\n",
    "        chain_type = \"stuff\",\n",
    "        retriever = retriever,\n",
    "        return_source_documents = True\n",
    "    )\n",
    "\n",
    "    return qa({\"query\" : q})"
   ]
  },
  {
   "cell_type": "code",
   "execution_count": 20,
   "id": "241a3e35",
   "metadata": {},
   "outputs": [
    {
     "name": "stdout",
     "output_type": "stream",
     "text": [
      "{'query': '내용 요약해줘',\n",
      " 'result': '이 내용은 특정 경기나 대회에서의 선수들의 인터뷰와 경기 중 발생한 상황들을 설명하는 것으로 보입니다. 선수들은 경기 '\n",
      "           '전후의 소감, 팀의 전략, 개인적인 목표 및 각오 등에 대해 이야기하고 있습니다. 또한, 경기의 긴장감 넘치는 순간들과 '\n",
      "           '팀원들 간의 협력, 전략적인 플레이가 언급되며, 팬들에 대한 감사의 메시지도 포함되어 있습니다. 구체적으로, 선수들은 '\n",
      "           '이전 경기의 아쉬웠던 점을 보완하고자 노력하는 모습을 보여주며, 팀으로서 더 강해지기 위한 결의를 다지는 모습을 '\n",
      "           '보여줍니다. 이러한 내용들은 경기와 관련된 팀의 분위기와 선수들의 개인적인 생각, 팬들과의 상호작용 등을 포함하고 '\n",
      "           '있어, 스포츠 경기의 열정과 팀워크, 개인의 노력 등을 잘 보여주는 내용으로 구성되어 있습니다.',\n",
      " 'source_documents': [Document(metadata={'source': '2Huj1U5T0OI'}, page_content='멋다 너무데 그에 너무 많이 바꾸긴 했어 그 라마 이런 거 저번에 정말 마지막까지 가서 좀 아쉽게 졌었는데 제가 실수했던 부분이나 그런 거를 이제 빠르게 파악하고 보안해서 오늘 경기에서 잘 보여 드릴 수 있도록 그것만 생각하면서 잘 준비했다까요 같이 열심히해서 5cs 최강이 힐러가 됐으면 좋겠어요 죄송합니다 편집자의 실수로 잠시동안 오디오가 들어가지 않는 문제가 생겼습니다이 부분만 잠깐 AI 음성으로 대체하도록 하겠습니다 제가 어제 잠을 많이 못 자 가지고 그래도 준비한만큼 열심히 해 봐야죠 아 그래요 후배라고 하기엔 같이 활동을 안 했어서 오늘 다 같이 열심히 해서 좋은 경기하자 파이팅 저를 보러 정말 많이 와 주셔서 너무 감사하고 너무 좋았죠 근데 밖에서 사인하다 보니 덥고 땀도 엄청 흘려서 그래서 어제 몸살이 났었거든요 그래서 오늘은 건물 안에서 좀 빠르게 사인을 해 드려야 할 것 같아요 뒤에 일정 도 있고 컨디션 관리도 해야 하니 양해 좀 부탁드리겠습니다 뺐네 좋은데 나가 이기는데여 어 왜 이렇게 아파 안 아파 형 나이스 이겼어 나이스 나이스 팀이 위기의 순간에 몰렸을 팅 아직를 올리고 게임의 흐 끝 또 해서 애 마이크 한번씩 해주고 플레이스타일이 명확하다 보니 살아있다 야 내가도 [음악] 외 외로워요 정주야 오늘 돌 좀 떨려요 저번에는 떨린 거 없어 이번에 좀 떨리는 느낌이 있고이 떨리는 느낌 잘 가져가야죠 아예 안 떨리는게 더 잘 안 되는 거니까 사실 준비는 1경기 좀 많이 하긴 했 저번 경기를 준비를 많이 하 했었는데 아무래도 첫승이 가장 중요하다 보니까 앞전 경기에 좀 몰빵을 했어요 그래서 맵을 몇 개 많이 못해가지고 아쉽긴한데 이게 뭐 연습을 늦기 시작한 저희 탓이라 세 한번만 잘 타면은 무력한 모습은 안 보일 것 같아 이제 다음 주부터 이제 들어갈 것 같아요 첫 주차는 아무래도 한를 늦게 하다 보니까 간 길지가 않아요 스크림 수가 그렇게 많지가 않았어 가지고 그래서 이제 다음 주부터는 아마 나올 수 있을 거을 던지고 나노 지원을 하면서 윈스턴이 날뛰는 그런에서는 좋은 모습 오늘 경기로 1승 정립할 자신 있으신가요 자신은 항상 있는데 그게 잘 안되네요네 약 안됩니다 더 파이팅 넘치게 자신 있다고 한마디 부탁드려요 자신 있으니까 열심히 해보겠습니다 그렇다면 긴장하고 있을 팀원들에게 한마디 부탁드려요 우리 팀원들 잘해주고 있으니까 하던 대로 해주고 내가 더 열심히 할게 파이팅 아 자 바다를 정복하는 팀이 자 어떤 팀이 될 것인가 야 34살이요 정도 귀여움 쉽지 않아요 잠시만요 손흥민 페이커 그리그 류징 오케이 인정 예 그럴 수 있어 근데 여기는 좀 전지현 한가인 김태희 그리고 용이요 류재용 선수의 팬 여러분들이 너무나도 많이 왔네요 세계 최고 아나가 류제홍 야 예전에 그 여행 프로그램에서 그거 아시잖아요 두윤 류제홍 아 대형으로 잡겠는데 잡아냅니다 스코이 대요 얘들아 잘했거든 잘했는데 조합에 의신이 같지 마봐 여기서 버티는 거 비비는 거 아빠 넣은 다음에 그다음에 그걸 케어할 때 비 찍으면서 가면 됐잖아 좋은 자리까지 왔어요 가져왔는데요 힐맨 던지고 힐맨 힐맨 이거 대죠 그래도 재요 재웠어요 나도고 재웠어요 어 재 았어 어 이걸 내면이 돌 폭발시켜를 제거해 해네 지금 너무 유리한 상황는데 뚫려도 거의 시 거 같이 견수 있습니까 어 힐 힐 넌 강해졌다 돌격해 줬는데 들어와서 트가 아 잘 빠졌어요 잘 빠져 돼요 오 스킬 들어와서 이렇게 또 잡아냅니다 어 력이 좋고요 복제 복제 턴 다가 페이스도 그냥 집게 잘 뺏겨 줘가지고 예 자 뒤로 빠지면서 자 서포터 둘이 모여 있습니다 자 이거 윈스 두 마리입니다 수 있을까요 그 여기 살고 있는데요 오 살았어 살았어요 넌 강해졌다 돌격해에요 [음악] 적금성 새로 시간 부 훨씬 나 것같네요 어 예 오히 거 매그가 오히려 이거 빼야죠려 수 있어요 좋은 자리 다 뺏깁니다 아어와 그럼 또 이상해 지는데요 재우고 똑 마 나 불어 적용만 잘하는 건 아니야 밥의 쌈이 나오면서 이렇게 멋진 수비를 해야 되는 해적 단입니다 초뒤에 갈 거예요 이제 가겠죠 메그 밀어라 달려라 딜라인 어 잘 밀었어요 도리깨로 밀치고 빠졌는데요데 칼리스가 살아야 돼 이렇게 딜 라인이 달렸으면 칼리우스 잘 빠졌고 저 이럼 나노를 채 수 있습니까 류제홍 류제홍 그게 가장입니다 여기서 자 나로 채고고 나도 줘 나도 해줘 고 졌고 이러면 마지막 누가입니까 코시지 앞쪽에 빨라가지고 선준이 선준 위기 단 불립니다 이걸 견뎌요 우 이걸 다고요 오 이러면 집결 예 이건 이건 가져왔죠 대형입니다 건으로 가자 켰다 넌 강해졌다 돌격해 결 마지막 회입니다 지금 해적단 자로 들어오고요 단이 살 살 이거 잘 잡았죠이 같아요 아 설 이거 났데 어 이거 플래시포인트 3요 완전 비상인데요 [음악] 고 자 이거 앞에 이득 봐야 돼 앞에 이득 봐야 돼요 그게 중요합니다 이제서 홀딩 해야겠죠 자 힐 좋아요 생각보다 스데 시간 많이 끌려 가지고 어 이거 위기 이거 되나요 너무 멀었어요 너무 멀었어요 뒤 발아서 그렇죠 선이 아닙니다 어 근데 나 오 스 아 이걸 해네요 야 백키 와 김키 백키 좋습니다 자이고 자리 먹고 딜라인 원점프 만들어 놓고 예 모아놓고 힐맨 던지고 자 힐은 잘 들어가는데 이게 잡을 만한 조합이 아니라서 어 자요 그리고 밥으로 버티고 있습니다 여기가 버티는게 중 어 잘 쳤어요 베 어 이거 나노 근데 나이 칼리스가 이거 리필까지 건 되었 그 리필이 되면 그냥 끝날 수 있습니다 칼리오스 리필 실패 어 그래도 맥그 잡았어요 자 페이스 집까지 가나요 설마 페이스가 집요 페까지 가야 돼요 유사 테크 해야 돼요 95 97 98 99 100 승리의 집결습니다 집하 집착하게 어 금 끝나요 아 스 지금 지금 앞에 정리해야 되는데 어 이거 키야 킹 되었어요 되었어요 자 울드 오션 노인 거 바아 결국 한 점 따냅니다 아 와 너무 힘든 한 점이었는데 아 무슨 플레이오프 경기하시는 거예요 이두 팀 와 놀라웠습니다 어 정말 결국 경기를 3대 1로 승리하는 해적 단입니다 코끼리 동상 여기 있고 여기 계단 있잖아 우리가 이제 밀고 가자 했습니까 아네 하나 둘 셋 하나 둘 셋 하나 둘 셋 하나 둘 셋 하나 둘 셋 죄송해요 땀 묻었을 텐데 아 괜찮아요 감사합니다 일주 차는 좀 더 부족한 점이 많았지만이 주차는 무안해서 좀 잘 해보도록 하겠습니다 응원해 주신 분들 감사합니다 파이팅네 a [음악]')]}\n"
     ]
    }
   ],
   "source": [
    "pprint(ask_youtube(\"https://www.youtube.com/watch?v=2Huj1U5T0OI&t=16s\", \"내용 요약해줘\", language = 'ko'))"
   ]
  },
  {
   "cell_type": "code",
   "execution_count": null,
   "id": "66f6f43c",
   "metadata": {},
   "outputs": [],
   "source": []
  }
 ],
 "metadata": {
  "kernelspec": {
   "display_name": "Python 3",
   "language": "python",
   "name": "python3"
  },
  "language_info": {
   "codemirror_mode": {
    "name": "ipython",
    "version": 3
   },
   "file_extension": ".py",
   "mimetype": "text/x-python",
   "name": "python",
   "nbconvert_exporter": "python",
   "pygments_lexer": "ipython3",
   "version": "3.8.8"
  }
 },
 "nbformat": 4,
 "nbformat_minor": 5
}
