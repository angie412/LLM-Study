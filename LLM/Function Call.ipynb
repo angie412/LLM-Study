{
 "cells": [
  {
   "cell_type": "code",
   "execution_count": 1,
   "id": "65c434a7",
   "metadata": {},
   "outputs": [],
   "source": [
    "!pip install --upgrade --quiet openai duckpy"
   ]
  },
  {
   "cell_type": "code",
   "execution_count": 6,
   "id": "60eb7669",
   "metadata": {},
   "outputs": [
    {
     "name": "stdout",
     "output_type": "stream",
     "text": [
      "1.40.6\n"
     ]
    }
   ],
   "source": [
    "import openai\n",
    "import os\n",
    "from openai import OpenAI\n",
    "with open('gram_token.txt', 'r') as file:\n",
    "    os.environ['OPENAI_API_KEY'] = file.read().strip()\n",
    "    \n",
    "openai.api_key = os.getenv('OPENAI_API_KEY')\n",
    "\n",
    "print(openai.__version__)"
   ]
  },
  {
   "cell_type": "code",
   "execution_count": 7,
   "id": "ec2e713f",
   "metadata": {},
   "outputs": [],
   "source": [
    "import json \n",
    "from duckpy import Client\n",
    "import ast\n",
    "\n",
    "client = openai.OpenAI()\n",
    "duckduckgo_client = Client()\n",
    "\n",
    "def duck_search(query) -> str:\n",
    "    \"\"\" Run a duckduckgo search\"\"\"\n",
    "    output = duckduckgo_client.search(query)\n",
    "    return str(output)"
   ]
  },
  {
   "cell_type": "code",
   "execution_count": 11,
   "id": "f5d377aa",
   "metadata": {},
   "outputs": [
    {
     "name": "stdout",
     "output_type": "stream",
     "text": [
      "ChatCompletion(id='chatcmpl-9w52sO3VJpFq83D5NIZczRhxYE7CD', choices=[Choice(finish_reason='function_call', index=0, logprobs=None, message=ChatCompletionMessage(content=None, refusal=None, role='assistant', function_call=FunctionCall(arguments='{\\n  \"query\": \"George Clooney birthday\"\\n}', name='duck_search'), tool_calls=None))], created=1723629446, model='gpt-4-0613', object='chat.completion', service_tier=None, system_fingerprint=None, usage=CompletionUsage(completion_tokens=19, prompt_tokens=81, total_tokens=100))\n"
     ]
    }
   ],
   "source": [
    "completion = client.chat.completions.create(\n",
    "    model = \"gpt-4\",\n",
    "    temperature = 0,\n",
    "    functions=[\n",
    "         {\n",
    "                \"name\": \"duck_search\",\n",
    "                \"description\": \"Used to search online\",\n",
    "                \"parameters\": {\n",
    "                    \"type\": \"object\",\n",
    "                    \"properties\": {\n",
    "                        \"query\": {\n",
    "                            \"type\": \"string\",\n",
    "                            \"description\": \"Translate the Korean content into English input query\",\n",
    "                        },\n",
    "                    },\n",
    "                    \"required\": [\"query\"],\n",
    "                },\n",
    "            }\n",
    "    ],\n",
    "     messages=[\n",
    "            {\"role\": \"system\", \"content\": \"You must use the `duck_search` function to get information.\"},\n",
    "            {\"role\": \"user\", \"content\": \"조지 클루니 생일이 언제야?\"},\n",
    "        ]\n",
    ")\n",
    "\n",
    "print(completion)"
   ]
  },
  {
   "cell_type": "code",
   "execution_count": 14,
   "id": "142c17fa",
   "metadata": {},
   "outputs": [
    {
     "name": "stdout",
     "output_type": "stream",
     "text": [
      "[]\n",
      "ChatCompletion(id='chatcmpl-9w55E4CbuaV81oijfcm9edzbuimqW', choices=[Choice(finish_reason='stop', index=0, logprobs=None, message=ChatCompletionMessage(content='조지 클루니의 생일은 1961년 5월 6일입니다.', refusal=None, role='assistant', function_call=None, tool_calls=None))], created=1723629592, model='gpt-4o-2024-05-13', object='chat.completion', service_tier=None, system_fingerprint='fp_3aa7262c27', usage=CompletionUsage(completion_tokens=21, prompt_tokens=86, total_tokens=107))\n",
      "조지 클루니의 생일은 1961년 5월 6일입니다.\n"
     ]
    }
   ],
   "source": [
    "#function call success\n",
    "\n",
    "message = completion.choices[0].message\n",
    "\n",
    "if message.function_call :\n",
    "    function_name = message.function_call.name\n",
    "    args = ast.literal_eval(message.function_call.arguments)\n",
    "    function_response = duck_search(\n",
    "        query = args.get(\"query\")\n",
    "    )\n",
    "    print(function_response)\n",
    "    completion_final = client.chat.completions.create(\n",
    "        model=\"gpt-4o\",\n",
    "        messages=[\n",
    "            {\"role\": \"user\", \"content\": \"조지 클루니 생일이 언제야?\"},\n",
    "            message,\n",
    "            {\n",
    "                \"role\": \"function\",\n",
    "                \"name\": function_name,\n",
    "                \"content\": function_response,\n",
    "            },\n",
    "        ],\n",
    "    )\n",
    "    print(completion_final)\n",
    "    print(completion_final.choices[0].message.content)"
   ]
  },
  {
   "cell_type": "code",
   "execution_count": 13,
   "id": "b8888222",
   "metadata": {},
   "outputs": [
    {
     "name": "stdout",
     "output_type": "stream",
     "text": [
      "ChatCompletionMessage(content=None, refusal=None, role='assistant', function_call=FunctionCall(arguments='{\\n  \"response_up\": \"네, 맞습니다. 런던의 날씨가 좋지 않다는 정보가 있습니다.\",\\n  \"response_down\": \"그래, 런던 날씨가 좋지 않다고 들었어.\"\\n}', name='get_different_responses'), tool_calls=None)\n",
      "{\n",
      "  \"response_up\": \"네, 맞습니다. 런던의 날씨가 좋지 않다는 정보가 있습니다.\",\n",
      "  \"response_down\": \"그래, 런던 날씨가 좋지 않다고 들었어.\"\n",
      "}\n"
     ]
    }
   ],
   "source": [
    "example_user_input = \"런던 날씨가 안 좋다면서?\"\n",
    "\n",
    "completion = client.chat.completions.create(\n",
    "    model=\"gpt-4\",\n",
    "    messages=[{\"role\": \"user\", \"content\": example_user_input}],\n",
    "    functions=[\n",
    "      {\n",
    "          \"name\": \"get_different_responses\",\n",
    "          \"description\": \"답변을 여러가지 말투로 하기\",\n",
    "          \"parameters\": {\n",
    "              \"type\": \"object\",\n",
    "              \"properties\": {\n",
    "                  \"response_up\": {\n",
    "                      \"type\": \"string\",\n",
    "                      \"description\": \"답변을 높임말로 바꿈\",\n",
    "                  },\n",
    "                  \"response_down\": {\n",
    "                      \"type\": \"string\",\n",
    "                      \"description\": \"답변을 반말로 바꿈\",\n",
    "                  }\n",
    "              },\n",
    "              \"required\": [\"response_up\", \"response_down\"],\n",
    "          },\n",
    "      }\n",
    "    ],\n",
    "    function_call={\"name\": \"get_different_responses\"},\n",
    ")\n",
    "\n",
    "reply_content = completion.choices[0].message\n",
    "print(reply_content)\n",
    "print(reply_content.function_call.arguments)"
   ]
  },
  {
   "cell_type": "code",
   "execution_count": null,
   "id": "82d94db8",
   "metadata": {},
   "outputs": [],
   "source": []
  }
 ],
 "metadata": {
  "kernelspec": {
   "display_name": "Python 3 (ipykernel)",
   "language": "python",
   "name": "python3"
  },
  "language_info": {
   "codemirror_mode": {
    "name": "ipython",
    "version": 3
   },
   "file_extension": ".py",
   "mimetype": "text/x-python",
   "name": "python",
   "nbconvert_exporter": "python",
   "pygments_lexer": "ipython3",
   "version": "3.11.3"
  }
 },
 "nbformat": 4,
 "nbformat_minor": 5
}
