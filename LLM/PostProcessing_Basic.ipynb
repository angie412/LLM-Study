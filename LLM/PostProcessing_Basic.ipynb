{
 "cells": [
  {
   "cell_type": "code",
   "execution_count": 1,
   "id": "700ee4da",
   "metadata": {},
   "outputs": [],
   "source": [
    "!pip install --upgrade --quiet openai"
   ]
  },
  {
   "cell_type": "markdown",
   "id": "86abeaa7",
   "metadata": {},
   "source": [
    "#### Moderation"
   ]
  },
  {
   "cell_type": "code",
   "execution_count": 2,
   "id": "502b6c24",
   "metadata": {},
   "outputs": [],
   "source": [
    "import os, openai\n",
    "\n",
    "with open('gram_token.txt', 'r') as file:\n",
    "    os.environ['OPENAI_API_KEY'] = file.read().strip()\n",
    "    \n",
    "openai.api_key = os.getenv('OPENAI_API_KEY')"
   ]
  },
  {
   "cell_type": "code",
   "execution_count": 4,
   "id": "f84b10a3",
   "metadata": {},
   "outputs": [],
   "source": [
    "from openai import OpenAI\n",
    "\n",
    "client = OpenAI()"
   ]
  },
  {
   "cell_type": "code",
   "execution_count": 7,
   "id": "18b47f95",
   "metadata": {},
   "outputs": [
    {
     "data": {
      "text/plain": [
       "Moderation(categories=Categories(harassment=False, harassment_threatening=False, hate=True, hate_threatening=False, self_harm=False, self_harm_instructions=False, self_harm_intent=False, sexual=False, sexual_minors=False, violence=False, violence_graphic=False, self-harm=False, sexual/minors=False, hate/threatening=False, violence/graphic=False, self-harm/intent=False, self-harm/instructions=False, harassment/threatening=False), category_scores=CategoryScores(harassment=0.3030817210674286, harassment_threatening=5.598323014055495e-07, hate=0.41028425097465515, hate_threatening=8.564888389628322e-07, self_harm=6.107258254672843e-09, self_harm_instructions=1.0522284155101147e-09, self_harm_intent=8.864877165670748e-10, sexual=1.0595258572720923e-05, sexual_minors=2.332646090508206e-06, violence=0.0001568168809171766, violence_graphic=1.5803103451617062e-05, self-harm=6.107258254672843e-09, sexual/minors=2.332646090508206e-06, hate/threatening=8.564888389628322e-07, violence/graphic=1.5803103451617062e-05, self-harm/intent=8.864877165670748e-10, self-harm/instructions=1.0522284155101147e-09, harassment/threatening=5.598323014055495e-07), flagged=True)"
      ]
     },
     "execution_count": 7,
     "metadata": {},
     "output_type": "execute_result"
    }
   ],
   "source": [
    "response = client.moderations.create(input = \"Why are women bad developers?\")\n",
    "output = response.results[0]\n",
    "output"
   ]
  },
  {
   "cell_type": "code",
   "execution_count": 8,
   "id": "3990bd91",
   "metadata": {},
   "outputs": [
    {
     "data": {
      "text/plain": [
       "{'categories': {'harassment': False,\n",
       "  'harassment/threatening': False,\n",
       "  'hate': True,\n",
       "  'hate/threatening': False,\n",
       "  'self-harm': False,\n",
       "  'self-harm/instructions': False,\n",
       "  'self-harm/intent': False,\n",
       "  'sexual': False,\n",
       "  'sexual/minors': False,\n",
       "  'violence': False,\n",
       "  'violence/graphic': False},\n",
       " 'category_scores': {'harassment': 0.3030817210674286,\n",
       "  'harassment/threatening': 5.598323014055495e-07,\n",
       "  'hate': 0.41028425097465515,\n",
       "  'hate/threatening': 8.564888389628322e-07,\n",
       "  'self-harm': 6.107258254672843e-09,\n",
       "  'self-harm/instructions': 1.0522284155101147e-09,\n",
       "  'self-harm/intent': 8.864877165670748e-10,\n",
       "  'sexual': 1.0595258572720923e-05,\n",
       "  'sexual/minors': 2.332646090508206e-06,\n",
       "  'violence': 0.0001568168809171766,\n",
       "  'violence/graphic': 1.5803103451617062e-05},\n",
       " 'flagged': True}"
      ]
     },
     "execution_count": 8,
     "metadata": {},
     "output_type": "execute_result"
    }
   ],
   "source": [
    "output.to_dict()"
   ]
  },
  {
   "cell_type": "code",
   "execution_count": 10,
   "id": "29cd20b0",
   "metadata": {},
   "outputs": [
    {
     "name": "stdout",
     "output_type": "stream",
     "text": [
      "hate : True\n"
     ]
    }
   ],
   "source": [
    "for key, value in output.categories.to_dict().items():\n",
    "    if value == True :\n",
    "        print(f\"{key} : {value}\")"
   ]
  },
  {
   "cell_type": "code",
   "execution_count": 11,
   "id": "f25398af",
   "metadata": {},
   "outputs": [
    {
     "data": {
      "text/plain": [
       "0.41028425097465515"
      ]
     },
     "execution_count": 11,
     "metadata": {},
     "output_type": "execute_result"
    }
   ],
   "source": [
    "output.category_scores.hate"
   ]
  },
  {
   "cell_type": "code",
   "execution_count": 15,
   "id": "5fb88903",
   "metadata": {},
   "outputs": [],
   "source": [
    "def get_moderation_results(text):\n",
    "    response = client.moderations.create(input = text)\n",
    "    output = response.results[0].to_dict()\n",
    "    flagged = output['flagged']\n",
    "    rules_contravened = []\n",
    "    \n",
    "    for key, value in output[\"categories\"].items():\n",
    "        if value == True :\n",
    "            rules_contravened.append(key)\n",
    "            \n",
    "    \n",
    "    print(\"\\n moderation test result\")\n",
    "    print(\"--------------------------\")\n",
    "    print(f\"moderation test text : {text}\")\n",
    "    print(f\"moderation test pass ?  : {flagged}\")\n",
    "    print(f\"moderation problem categories : {','.join(rules_contravened)}\")\n"
   ]
  },
  {
   "cell_type": "code",
   "execution_count": 17,
   "id": "affdf40c",
   "metadata": {},
   "outputs": [
    {
     "name": "stdout",
     "output_type": "stream",
     "text": [
      "\n",
      " moderation test result\n",
      "--------------------------\n",
      "moderation test text : why do black people commit crimes?\n",
      "moderation test pass ?  : True\n",
      "moderation problem categories : harassment,hate\n"
     ]
    }
   ],
   "source": [
    "get_moderation_results(\"why do black people commit crimes?\")"
   ]
  },
  {
   "cell_type": "markdown",
   "id": "debce436",
   "metadata": {},
   "source": [
    "#### Grounding"
   ]
  },
  {
   "cell_type": "code",
   "execution_count": 19,
   "id": "b3498596",
   "metadata": {},
   "outputs": [],
   "source": [
    "!pip install --quiet ragas"
   ]
  },
  {
   "cell_type": "code",
   "execution_count": 21,
   "id": "c6aa4685",
   "metadata": {},
   "outputs": [],
   "source": [
    "from datasets import Dataset\n",
    "from ragas import evaluate\n",
    "from ragas. metrics import answer_relevancy, faithfulness, context_recall, answer_correctness, context_precision"
   ]
  },
  {
   "cell_type": "code",
   "execution_count": null,
   "id": "31811d9f",
   "metadata": {},
   "outputs": [],
   "source": []
  }
 ],
 "metadata": {
  "kernelspec": {
   "display_name": "Python 3 (ipykernel)",
   "language": "python",
   "name": "python3"
  },
  "language_info": {
   "codemirror_mode": {
    "name": "ipython",
    "version": 3
   },
   "file_extension": ".py",
   "mimetype": "text/x-python",
   "name": "python",
   "nbconvert_exporter": "python",
   "pygments_lexer": "ipython3",
   "version": "3.11.3"
  }
 },
 "nbformat": 4,
 "nbformat_minor": 5
}
